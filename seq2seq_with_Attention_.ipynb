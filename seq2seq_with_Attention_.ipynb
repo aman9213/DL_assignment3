{
  "nbformat": 4,
  "nbformat_minor": 0,
  "metadata": {
    "colab": {
      "provenance": [],
      "gpuType": "T4",
      "include_colab_link": true
    },
    "kernelspec": {
      "name": "python3",
      "display_name": "Python 3"
    },
    "language_info": {
      "name": "python"
    },
    "gpuClass": "standard",
    "accelerator": "GPU"
  },
  "cells": [
    {
      "cell_type": "markdown",
      "metadata": {
        "id": "view-in-github",
        "colab_type": "text"
      },
      "source": [
        "<a href=\"https://colab.research.google.com/github/aman9213/DL_assignment3/blob/main/seq2seq_with_Attention_.ipynb\" target=\"_parent\"><img src=\"https://colab.research.google.com/assets/colab-badge.svg\" alt=\"Open In Colab\"/></a>"
      ]
    },
    {
      "cell_type": "code",
      "execution_count": null,
      "metadata": {
        "id": "tMpYfXaFYmni"
      },
      "outputs": [],
      "source": [
        "from __future__ import unicode_literals, print_function, division\n",
        "from io import open\n",
        "import unicodedata\n",
        "import string\n",
        "import re\n",
        "import random\n",
        "import pandas as pd\n",
        "import os\n",
        "import glob\n",
        "from torch.utils.data import DataLoader,Dataset \n",
        "import numpy as np\n",
        "import torch\n",
        "import torch.nn as nn\n",
        "from torch import optim\n",
        "import torch.nn.functional as F\n",
        "import matplotlib.pyplot as plt\n",
        "import copy"
      ]
    },
    {
      "cell_type": "code",
      "source": [
        "from google.colab import files\n",
        "from google.colab import drive\n",
        "drive.mount('/content/drive')"
      ],
      "metadata": {
        "id": "vLcvQ9b6eIhZ",
        "colab": {
          "base_uri": "https://localhost:8080/"
        },
        "outputId": "06ee94b6-5748-4e6b-aa29-3a8fdd1056aa"
      },
      "execution_count": null,
      "outputs": [
        {
          "output_type": "stream",
          "name": "stdout",
          "text": [
            "Drive already mounted at /content/drive; to attempt to forcibly remount, call drive.mount(\"/content/drive\", force_remount=True).\n"
          ]
        }
      ]
    },
    {
      "cell_type": "code",
      "source": [
        "device = torch.device(\"cuda\" if torch.cuda.is_available() else \"cpu\")\n",
        "print(device)"
      ],
      "metadata": {
        "colab": {
          "base_uri": "https://localhost:8080/"
        },
        "id": "MPSuUeiJtXpO",
        "outputId": "5dfe0b3a-72d1-4776-da33-84246f55466d"
      },
      "execution_count": null,
      "outputs": [
        {
          "output_type": "stream",
          "name": "stdout",
          "text": [
            "cuda\n"
          ]
        }
      ]
    },
    {
      "cell_type": "code",
      "source": [
        "path = '/content/drive/MyDrive/hin'\n",
        "csv_files = glob.glob(os.path.join(path, \"*.csv\"))\n",
        "print(csv_files)\n",
        "test_path=csv_files[0]\n",
        "train_path=csv_files[2]\n",
        "valid_path=csv_files[1]\n",
        "train_data=pd.read_csv(train_path)\n",
        "valid_data=pd.read_csv(valid_path)\n",
        "test_data=pd.read_csv(test_path)\n",
        "display((valid_data))\n",
        "train_data_matrix=train_data.to_numpy()\n",
        "valid_data_matrix=valid_data.to_numpy()\n",
        "test_data_matrix=test_data.to_numpy()\n",
        "# print(train_data_matrix[:,1])\n",
        "print(valid_data_matrix.shape)"
      ],
      "metadata": {
        "colab": {
          "base_uri": "https://localhost:8080/",
          "height": 458
        },
        "id": "ayBGC6kkug2r",
        "outputId": "73ac978b-d628-45e1-c636-512eef415cde"
      },
      "execution_count": null,
      "outputs": [
        {
          "output_type": "stream",
          "name": "stdout",
          "text": [
            "['/content/drive/MyDrive/hin/hin_test.csv', '/content/drive/MyDrive/hin/hin_valid.csv', '/content/drive/MyDrive/hin/hin_train.csv']\n"
          ]
        },
        {
          "output_type": "display_data",
          "data": {
            "text/plain": [
              "         jaisawal       जयसवाल\n",
              "0           bajai         बजाई\n",
              "1       sanghthan        संघठन\n",
              "2         haiwaan        हैवान\n",
              "3         nilgiri      नीलगिरि\n",
              "4       drutgrami  द्रुतग्रामी\n",
              "...           ...          ...\n",
              "4090     paranshu       परांशु\n",
              "4091    romanchit     रोमांचित\n",
              "4092  ekamreshwar  एकाम्रेश्वर\n",
              "4093    bluetooth    ब्ल्यूटूथ\n",
              "4094    govindram   गोविंद्राम\n",
              "\n",
              "[4095 rows x 2 columns]"
            ],
            "text/html": [
              "\n",
              "  <div id=\"df-4de5f428-8968-4a65-a54b-17cd3418b33a\">\n",
              "    <div class=\"colab-df-container\">\n",
              "      <div>\n",
              "<style scoped>\n",
              "    .dataframe tbody tr th:only-of-type {\n",
              "        vertical-align: middle;\n",
              "    }\n",
              "\n",
              "    .dataframe tbody tr th {\n",
              "        vertical-align: top;\n",
              "    }\n",
              "\n",
              "    .dataframe thead th {\n",
              "        text-align: right;\n",
              "    }\n",
              "</style>\n",
              "<table border=\"1\" class=\"dataframe\">\n",
              "  <thead>\n",
              "    <tr style=\"text-align: right;\">\n",
              "      <th></th>\n",
              "      <th>jaisawal</th>\n",
              "      <th>जयसवाल</th>\n",
              "    </tr>\n",
              "  </thead>\n",
              "  <tbody>\n",
              "    <tr>\n",
              "      <th>0</th>\n",
              "      <td>bajai</td>\n",
              "      <td>बजाई</td>\n",
              "    </tr>\n",
              "    <tr>\n",
              "      <th>1</th>\n",
              "      <td>sanghthan</td>\n",
              "      <td>संघठन</td>\n",
              "    </tr>\n",
              "    <tr>\n",
              "      <th>2</th>\n",
              "      <td>haiwaan</td>\n",
              "      <td>हैवान</td>\n",
              "    </tr>\n",
              "    <tr>\n",
              "      <th>3</th>\n",
              "      <td>nilgiri</td>\n",
              "      <td>नीलगिरि</td>\n",
              "    </tr>\n",
              "    <tr>\n",
              "      <th>4</th>\n",
              "      <td>drutgrami</td>\n",
              "      <td>द्रुतग्रामी</td>\n",
              "    </tr>\n",
              "    <tr>\n",
              "      <th>...</th>\n",
              "      <td>...</td>\n",
              "      <td>...</td>\n",
              "    </tr>\n",
              "    <tr>\n",
              "      <th>4090</th>\n",
              "      <td>paranshu</td>\n",
              "      <td>परांशु</td>\n",
              "    </tr>\n",
              "    <tr>\n",
              "      <th>4091</th>\n",
              "      <td>romanchit</td>\n",
              "      <td>रोमांचित</td>\n",
              "    </tr>\n",
              "    <tr>\n",
              "      <th>4092</th>\n",
              "      <td>ekamreshwar</td>\n",
              "      <td>एकाम्रेश्वर</td>\n",
              "    </tr>\n",
              "    <tr>\n",
              "      <th>4093</th>\n",
              "      <td>bluetooth</td>\n",
              "      <td>ब्ल्यूटूथ</td>\n",
              "    </tr>\n",
              "    <tr>\n",
              "      <th>4094</th>\n",
              "      <td>govindram</td>\n",
              "      <td>गोविंद्राम</td>\n",
              "    </tr>\n",
              "  </tbody>\n",
              "</table>\n",
              "<p>4095 rows × 2 columns</p>\n",
              "</div>\n",
              "      <button class=\"colab-df-convert\" onclick=\"convertToInteractive('df-4de5f428-8968-4a65-a54b-17cd3418b33a')\"\n",
              "              title=\"Convert this dataframe to an interactive table.\"\n",
              "              style=\"display:none;\">\n",
              "        \n",
              "  <svg xmlns=\"http://www.w3.org/2000/svg\" height=\"24px\"viewBox=\"0 0 24 24\"\n",
              "       width=\"24px\">\n",
              "    <path d=\"M0 0h24v24H0V0z\" fill=\"none\"/>\n",
              "    <path d=\"M18.56 5.44l.94 2.06.94-2.06 2.06-.94-2.06-.94-.94-2.06-.94 2.06-2.06.94zm-11 1L8.5 8.5l.94-2.06 2.06-.94-2.06-.94L8.5 2.5l-.94 2.06-2.06.94zm10 10l.94 2.06.94-2.06 2.06-.94-2.06-.94-.94-2.06-.94 2.06-2.06.94z\"/><path d=\"M17.41 7.96l-1.37-1.37c-.4-.4-.92-.59-1.43-.59-.52 0-1.04.2-1.43.59L10.3 9.45l-7.72 7.72c-.78.78-.78 2.05 0 2.83L4 21.41c.39.39.9.59 1.41.59.51 0 1.02-.2 1.41-.59l7.78-7.78 2.81-2.81c.8-.78.8-2.07 0-2.86zM5.41 20L4 18.59l7.72-7.72 1.47 1.35L5.41 20z\"/>\n",
              "  </svg>\n",
              "      </button>\n",
              "      \n",
              "  <style>\n",
              "    .colab-df-container {\n",
              "      display:flex;\n",
              "      flex-wrap:wrap;\n",
              "      gap: 12px;\n",
              "    }\n",
              "\n",
              "    .colab-df-convert {\n",
              "      background-color: #E8F0FE;\n",
              "      border: none;\n",
              "      border-radius: 50%;\n",
              "      cursor: pointer;\n",
              "      display: none;\n",
              "      fill: #1967D2;\n",
              "      height: 32px;\n",
              "      padding: 0 0 0 0;\n",
              "      width: 32px;\n",
              "    }\n",
              "\n",
              "    .colab-df-convert:hover {\n",
              "      background-color: #E2EBFA;\n",
              "      box-shadow: 0px 1px 2px rgba(60, 64, 67, 0.3), 0px 1px 3px 1px rgba(60, 64, 67, 0.15);\n",
              "      fill: #174EA6;\n",
              "    }\n",
              "\n",
              "    [theme=dark] .colab-df-convert {\n",
              "      background-color: #3B4455;\n",
              "      fill: #D2E3FC;\n",
              "    }\n",
              "\n",
              "    [theme=dark] .colab-df-convert:hover {\n",
              "      background-color: #434B5C;\n",
              "      box-shadow: 0px 1px 3px 1px rgba(0, 0, 0, 0.15);\n",
              "      filter: drop-shadow(0px 1px 2px rgba(0, 0, 0, 0.3));\n",
              "      fill: #FFFFFF;\n",
              "    }\n",
              "  </style>\n",
              "\n",
              "      <script>\n",
              "        const buttonEl =\n",
              "          document.querySelector('#df-4de5f428-8968-4a65-a54b-17cd3418b33a button.colab-df-convert');\n",
              "        buttonEl.style.display =\n",
              "          google.colab.kernel.accessAllowed ? 'block' : 'none';\n",
              "\n",
              "        async function convertToInteractive(key) {\n",
              "          const element = document.querySelector('#df-4de5f428-8968-4a65-a54b-17cd3418b33a');\n",
              "          const dataTable =\n",
              "            await google.colab.kernel.invokeFunction('convertToInteractive',\n",
              "                                                     [key], {});\n",
              "          if (!dataTable) return;\n",
              "\n",
              "          const docLinkHtml = 'Like what you see? Visit the ' +\n",
              "            '<a target=\"_blank\" href=https://colab.research.google.com/notebooks/data_table.ipynb>data table notebook</a>'\n",
              "            + ' to learn more about interactive tables.';\n",
              "          element.innerHTML = '';\n",
              "          dataTable['output_type'] = 'display_data';\n",
              "          await google.colab.output.renderOutput(dataTable, element);\n",
              "          const docLink = document.createElement('div');\n",
              "          docLink.innerHTML = docLinkHtml;\n",
              "          element.appendChild(docLink);\n",
              "        }\n",
              "      </script>\n",
              "    </div>\n",
              "  </div>\n",
              "  "
            ]
          },
          "metadata": {}
        },
        {
          "output_type": "stream",
          "name": "stdout",
          "text": [
            "(4095, 2)\n"
          ]
        }
      ]
    },
    {
      "cell_type": "markdown",
      "source": [
        "### Data-processing--> creating dictionary of index to character and character to index"
      ],
      "metadata": {
        "id": "A_zudZa061o3"
      }
    },
    {
      "cell_type": "code",
      "source": [],
      "metadata": {
        "id": "b33yn4lD61E4"
      },
      "execution_count": null,
      "outputs": []
    },
    {
      "cell_type": "code",
      "source": [
        "# Load the CSV data using pandas\n",
        "source_train='shastragaar'\n",
        "target_train='शस्त्रागार'\n",
        "source_test='thermax'\n",
        "target_test='थरमैक्स'\n",
        "source_valid='jaisawal'\n",
        "target_valid='जयसवाल'\n",
        "# data = pd.read_csv('data.csv')\n",
        "train_data=pd.read_csv(train_path)\n",
        "test_data=pd.read_csv(test_path)\n",
        "valid_data=pd.read_csv(valid_path)\n",
        "# Convert the data to lowercase\n",
        "train_data[source_train] = train_data[source_train].str.lower()\n",
        "test_data[source_test]=test_data[source_test].str.lower()\n",
        "# valid_data[source_valid]=test_data[source_valid].str.lower()\n",
        "\n",
        "# print(train_data[source].shape)\n",
        "# Clean and normalize Hindi text\n",
        "def clean_text(text):\n",
        "  # Remove punctuations and digits\n",
        "  text = re.sub(r'[^\\u0900-\\u097F\\s]', '', text)\n",
        "  text = re.sub(r'[\\d]', '', text)\n",
        "  \n",
        "  # Normalize text\n",
        "  text = unicodedata.normalize('NFD', text)\n",
        "  text = ''.join(c for c in text if unicodedata.category(c) != 'Mn')\n",
        "  text = unicodedata.normalize('NFC', text)\n",
        "  \n",
        "  return text\n",
        "\n",
        "train_data[target_train] = train_data[target_train].apply(clean_text)\n",
        "test_data[target_test]=test_data[target_test].apply(clean_text)\n",
        "valid_data[target_valid]=valid_data[target_valid].apply(clean_text)\n",
        "# print(train_data)\n",
        "# Tokenize the data\n",
        "source_chars_train = set()\n",
        "target_chars_train = set()\n",
        "source_chars_test = set()\n",
        "target_chars_test = set()\n",
        "source_chars_valid = set()\n",
        "target_chars_valid = set()\n",
        "for source1, target1 in zip(train_data[source_train], train_data[target_train]):\n",
        "  source_chars_train.update(source1)\n",
        "  target_chars_train.update(target1)\n",
        "# print(target_chars_train)\n",
        "source_chars_train = sorted(list(source_chars_train))\n",
        "target_chars_train = sorted(list(target_chars_train))\n",
        "# print(target_chars,source_chars )\n",
        "for source2, target2 in zip(test_data[source_test],test_data[target_test]):\n",
        "  source_chars_test.update(source2)\n",
        "  target_chars_test.update(target2)\n",
        "# print(target_chars_test)\n",
        "source_chars_test = sorted(list(source_chars_test))\n",
        "target_chars_test = sorted(list(target_chars_test))\n",
        "\n",
        "##############\n",
        "for source3, target3 in zip(valid_data[source_valid], valid_data[target_valid]):\n",
        "  source_chars_valid.update(source3)\n",
        "  target_chars_valid.update(target3)\n",
        "# print(target_chars_valid)\n",
        "source_chars_valid = sorted(list(source_chars_valid))\n",
        "target_chars_valid = sorted(list(target_chars_valid))\n",
        "print(\"A\",target_chars_test)\n",
        "print((target_chars_train))\n",
        "source_chars=sorted(list(set().union(source_chars_train,source_chars_test,source_chars_valid)))\n",
        "target_chars=sorted(list(set().union(target_chars_train,target_chars_test,target_chars_valid )))\n",
        "###character to index dictionary\n",
        "source_char_to_id = {char: i for i, char in enumerate(source_chars)}\n",
        "target_char_to_id = {char: i for i, char in enumerate(target_chars)}\n",
        "\n",
        "source_char_to_id['<SOS>'] = len(source_char_to_id)\n",
        "target_char_to_id['<SOS>'] = len(target_char_to_id)\n",
        "\n",
        "source_char_to_id['<EOS>'] = len(source_char_to_id)\n",
        "target_char_to_id['<EOS>'] = len(target_char_to_id)\n",
        "\n",
        "source_char_to_id['<PAD>'] = len(source_char_to_id)\n",
        "target_char_to_id['<PAD>'] = len(target_char_to_id)\n",
        "## index to charcter dicitonary\n",
        "source_id_to_char={i:char for i,char in enumerate(source_chars)}\n",
        "target_id_to_char={i:char for i,char in enumerate(target_chars)}\n",
        "print(target_char_to_id)\n",
        "print(source_char_to_id)"
      ],
      "metadata": {
        "colab": {
          "base_uri": "https://localhost:8080/"
        },
        "id": "14sCv2YUywJl",
        "outputId": "d50b1aef-3266-4b5e-b1aa-ac6df8f9d102"
      },
      "execution_count": null,
      "outputs": [
        {
          "output_type": "stream",
          "name": "stdout",
          "text": [
            "A ['ः', 'अ', 'आ', 'इ', 'ई', 'उ', 'ऊ', 'ऋ', 'ए', 'ऐ', 'ऑ', 'ओ', 'औ', 'क', 'ख', 'ग', 'घ', 'च', 'छ', 'ज', 'झ', 'ञ', 'ट', 'ठ', 'ड', 'ढ', 'ण', 'त', 'थ', 'द', 'ध', 'न', 'प', 'फ', 'ब', 'भ', 'म', 'य', 'र', 'ल', 'व', 'श', 'ष', 'स', 'ह', 'ऽ', 'ा', 'ि', 'ी', 'ॉ', 'ॊ', 'ो', 'ौ']\n",
            "['ः', 'अ', 'आ', 'इ', 'ई', 'उ', 'ऊ', 'ऋ', 'ए', 'ऐ', 'ऑ', 'ओ', 'औ', 'क', 'ख', 'ग', 'घ', 'ङ', 'च', 'छ', 'ज', 'झ', 'ञ', 'ट', 'ठ', 'ड', 'ढ', 'ण', 'त', 'थ', 'द', 'ध', 'न', 'प', 'फ', 'ब', 'भ', 'म', 'य', 'र', 'ल', 'ळ', 'व', 'श', 'ष', 'स', 'ह', 'ऽ', 'ा', 'ि', 'ी', 'ॉ', 'ो', 'ौ']\n",
            "{'ः': 0, 'अ': 1, 'आ': 2, 'इ': 3, 'ई': 4, 'उ': 5, 'ऊ': 6, 'ऋ': 7, 'ए': 8, 'ऐ': 9, 'ऑ': 10, 'ओ': 11, 'औ': 12, 'क': 13, 'ख': 14, 'ग': 15, 'घ': 16, 'ङ': 17, 'च': 18, 'छ': 19, 'ज': 20, 'झ': 21, 'ञ': 22, 'ट': 23, 'ठ': 24, 'ड': 25, 'ढ': 26, 'ण': 27, 'त': 28, 'थ': 29, 'द': 30, 'ध': 31, 'न': 32, 'प': 33, 'फ': 34, 'ब': 35, 'भ': 36, 'म': 37, 'य': 38, 'र': 39, 'ल': 40, 'ळ': 41, 'व': 42, 'श': 43, 'ष': 44, 'स': 45, 'ह': 46, 'ऽ': 47, 'ा': 48, 'ि': 49, 'ी': 50, 'ॉ': 51, 'ॊ': 52, 'ो': 53, 'ौ': 54, '<SOS>': 55, '<EOS>': 56, '<PAD>': 57}\n",
            "{'a': 0, 'b': 1, 'c': 2, 'd': 3, 'e': 4, 'f': 5, 'g': 6, 'h': 7, 'i': 8, 'j': 9, 'k': 10, 'l': 11, 'm': 12, 'n': 13, 'o': 14, 'p': 15, 'q': 16, 'r': 17, 's': 18, 't': 19, 'u': 20, 'v': 21, 'w': 22, 'x': 23, 'y': 24, 'z': 25, '<SOS>': 26, '<EOS>': 27, '<PAD>': 28}\n"
          ]
        }
      ]
    },
    {
      "cell_type": "code",
      "source": [
        "def tokenize(source,target,path):\n",
        "    # Load the CSV data using pandas\n",
        "\n",
        "    # data = pd.read_csv('data.csv')\n",
        "    data=pd.read_csv(path)\n",
        "    # Convert the data to lowercase\n",
        "    data[source] = data[source].str.lower()\n",
        "\n",
        "    # Clean and normalize Hindi text\n",
        "    def clean_text(text):\n",
        "        # Remove punctuations and digits\n",
        "        text = re.sub(r'[^\\u0900-\\u097F\\s]', '', text)\n",
        "        text = re.sub(r'[\\d]', '', text)\n",
        "\n",
        "        # Normalize text\n",
        "        text = unicodedata.normalize('NFD', text)\n",
        "        text = ''.join(c for c in text if unicodedata.category(c) != 'Mn')\n",
        "        text = unicodedata.normalize('NFC', text)\n",
        "\n",
        "        return text\n",
        "\n",
        "    data[target] = data[target].apply(clean_text)\n",
        "    # print(train_data)\n",
        "    # Tokenize the data\n",
        "    # source_chars = set()\n",
        "    # target_chars = set()\n",
        "\n",
        "    # for src, targ in zip(data[source],data[target]):\n",
        "    #     source_chars.update(src)\n",
        "    #     target_chars.update(targ)\n",
        "\n",
        "    # source_chars = sorted(list(source_chars))\n",
        "    # target_chars = sorted(list(target_chars))\n",
        "    # # print(target_chars,source_chars )\n",
        "    # source_char_to_id = {char: i for i, char in enumerate(source_chars)}\n",
        "    # target_char_to_id = {char: i for i, char in enumerate(target_chars)}\n",
        "    # source_id_to_char={i:char for i,char in enumerate(target_chars)}\n",
        "    # target_id_to_char={i:char for i,char in enumerate(target_chars)}\n",
        "#     print(source_char_to_id,target_char_to_id)\n",
        "    # Add padding, start-of-sequence and end-of-sequence tokens\n",
        "    # source_char_to_id['<PAD>'] = len(source_char_to_id)\n",
        "    # target_char_to_id['<PAD>'] = len(target_char_to_id)\n",
        "\n",
        "    # source_char_to_id['<SOS>'] = len(source_char_to_id)\n",
        "    # target_char_to_id['<SOS>'] = len(target_char_to_id)\n",
        "\n",
        "    # source_char_to_id['<EOS>'] = len(source_char_to_id)\n",
        "    # target_char_to_id['<EOS>'] = len(target_char_to_id)\n",
        "\n",
        "    # Convert characters to numerical values\n",
        "    data_numerical = []\n",
        "\n",
        "\n",
        "    for src, targ in zip(data[source], data[target]):\n",
        "        \n",
        "        source_numerical = [source_char_to_id[char] for char in src]\n",
        "        target_numerical = [target_char_to_id[char] for char in targ]\n",
        "        source_numerical=[source_char_to_id['<SOS>']]+source_numerical+[source_char_to_id['<EOS>']]+[source_char_to_id['<PAD>']]*(28-len(src)-2)\n",
        "        target_numerical=[target_char_to_id['<SOS>']]+target_numerical+[target_char_to_id['<EOS>']]+[target_char_to_id['<PAD>']]*(20-len(targ)-2)\n",
        "        \n",
        "        data_numerical.append([source_numerical, target_numerical])\n",
        "    return data_numerical"
      ],
      "metadata": {
        "id": "gJtRyjUjuvUZ"
      },
      "execution_count": null,
      "outputs": []
    },
    {
      "cell_type": "code",
      "source": [
        "train_data_numerical=tokenize('shastragaar','शस्त्रागार',train_path)\n",
        "valid_data_numerical=tokenize('jaisawal','जयसवाल',valid_path,)\n",
        "test_data_numerical=tokenize('thermax','थरमैक्स',test_path)\n"
      ],
      "metadata": {
        "id": "-9m6SSWcu9aB"
      },
      "execution_count": null,
      "outputs": []
    },
    {
      "cell_type": "code",
      "source": [
        "#  test_data_numerical=tokenize('thermax','थरमैक्स',test_path)\n",
        "class AksharantarDataset(Dataset):\n",
        "    def __init__(self, data):\n",
        "        self.data = data\n",
        "\n",
        "    def __len__(self):\n",
        "    \n",
        "        return len(self.data)\n",
        "\n",
        "    def __getitem__(self, index):\n",
        "        \n",
        "        source, target = self.data[index]\n",
        "        source_tensor = torch.tensor(source, dtype=torch.long)\n",
        "        target_tensor = torch.tensor(target, dtype=torch.long)\n",
        "#         print('--->insidedataloader ',index,source_tensor.shape,target_tensor.shape)\n",
        "        \n",
        "        return source_tensor, target_tensor\n"
      ],
      "metadata": {
        "id": "lKSTqi8GvCP_"
      },
      "execution_count": null,
      "outputs": []
    },
    {
      "cell_type": "code",
      "source": [
        "train_set=AksharantarDataset(train_data_numerical)\n",
        "valid_set=AksharantarDataset(valid_data_numerical)\n",
        "test_set=AksharantarDataset(test_data_numerical)"
      ],
      "metadata": {
        "id": "JDVtkvCZvupk"
      },
      "execution_count": null,
      "outputs": []
    },
    {
      "cell_type": "code",
      "source": [
        "xz,yz = next(iter(test_set))"
      ],
      "metadata": {
        "id": "aaq5BWdqrLpw"
      },
      "execution_count": null,
      "outputs": []
    },
    {
      "cell_type": "code",
      "source": [
        "xz,yz"
      ],
      "metadata": {
        "id": "nMbZosqprQ2w",
        "colab": {
          "base_uri": "https://localhost:8080/"
        },
        "outputId": "0e5811c4-0e83-4f46-d86a-c827def4b159"
      },
      "execution_count": null,
      "outputs": [
        {
          "output_type": "execute_result",
          "data": {
            "text/plain": [
              "(tensor([26, 18,  8, 10,  7,  0,  0,  4,  6,  0, 27, 28, 28, 28, 28, 28, 28, 28,\n",
              "         28, 28, 28, 28, 28, 28, 28, 28, 28, 28]),\n",
              " tensor([55, 45, 49, 14, 48,  8, 15, 48, 56, 57, 57, 57, 57, 57, 57, 57, 57, 57,\n",
              "         57, 57]))"
            ]
          },
          "metadata": {},
          "execution_count": 11
        }
      ]
    },
    {
      "cell_type": "code",
      "source": [
        "train_data_set=DataLoader(train_set, batch_size=64, shuffle=True)\n",
        "valid_data_set=DataLoader(valid_set, batch_size=64, shuffle=False)\n",
        "test_data_set=DataLoader(test_set, batch_size=64, shuffle=False)\n",
        "print(len(train_data_set))\n",
        "print(len(valid_data_set))\n",
        "print(len(test_data_set))"
      ],
      "metadata": {
        "colab": {
          "base_uri": "https://localhost:8080/"
        },
        "id": "Nd2sTFKRvylq",
        "outputId": "5f6f4a2d-ae6a-423a-91fc-4755bd51879f"
      },
      "execution_count": null,
      "outputs": [
        {
          "output_type": "stream",
          "name": "stdout",
          "text": [
            "800\n",
            "64\n",
            "64\n"
          ]
        }
      ]
    },
    {
      "cell_type": "code",
      "source": [
        "class Encoder(nn.Module):\n",
        "  def __init__(self,input_size,embedding_size,hidden_size,num_encoder_layer,dropout,input_vocab_size,bidirection,cell_type):\n",
        "    super(Encoder,self).__init__()\n",
        "    self.input_size = input_size\n",
        "    self.cell_type=cell_type\n",
        "    #self.embedding_size = embeddings_size\n",
        "    self.bidirection=bidirection\n",
        "    self.hidden_size=hidden_size\n",
        "    self.num_encoder_layer=num_encoder_layer\n",
        "    self.dropout=nn.Dropout(dropout)\n",
        "    self.embedding=nn.Embedding(input_vocab_size,embedding_size)\n",
        "    \n",
        "    if cell_type=='GRU':\n",
        "      if num_encoder_layer!=1:\n",
        "        self.rnn=nn.GRU(embedding_size,hidden_size,num_encoder_layer,dropout=dropout,bidirectional=bidirection)\n",
        "      else:\n",
        "        self.rnn=nn.GRU(embedding_size,hidden_size,num_encoder_layer,bidirectional=bidirection)\n",
        "\n",
        "\n",
        "\n",
        "\n",
        "  def forward(self,inputs):\n",
        "      \n",
        "    batch_size=inputs.shape[0]\n",
        "    \n",
        "    if self.bidirection:\n",
        "      \n",
        "      h0=torch.randn(2*self.num_encoder_layer,batch_size,self.hidden_size).to(device)\n",
        "      \n",
        "      \n",
        "    else:\n",
        "      \n",
        "      h0=torch.randn(self.num_encoder_layer,batch_size,self.hidden_size).to(device)\n",
        "      \n",
        "      \n",
        "    embedding=self.dropout(self.embedding(inputs)) ### (batch,28,embedding_size)\n",
        "    embedding=torch.permute(embedding,(1,0,2))     ##(28,batch,embedding)\n",
        "    \n",
        "    \n",
        "    encoder_states,hidden=self.rnn(embedding,h0)\n",
        "    \n",
        "    return encoder_states,hidden\n",
        "    # print(\"CC\",output.shape,hidden.shape)\n",
        "\n",
        "class Decoder_Attn(nn.Module):\n",
        "  def __init__(self,input_size,embedding_size,hidden_size,output_vocab_size,num_decoder_layer,dropout,bidirection,cell_type):\n",
        "    super(Decoder_Attn,self).__init__()\n",
        "    self.bidirection=bidirection\n",
        "    self.hidden_size=hidden_size\n",
        "    self.cell_type=cell_type\n",
        "    self.num_layer=num_decoder_layer\n",
        "    self.dropout=nn.Dropout(dropout)\n",
        "    self.embedding=nn.Embedding(output_vocab_size+3,embedding_size)       ## +3 because there are total 54+3=57 unique token\n",
        "    if self.bidirection:\n",
        "      if cell_type=='GRU':\n",
        "        if num_decoder_layer!=1:\n",
        "          self.rnn=nn.GRU(hidden_size*2+embedding_size,hidden_size,num_decoder_layer,dropout=dropout,bidirectional=bidirection)\n",
        "        else:\n",
        "          self.rnn=nn.GRU(hidden_size*2+embedding_size,hidden_size,num_decoder_layer,bidirectional=bidirection)\n",
        "      self.energy=nn.Linear(hidden_size*3,1)#  3 multiply may be due to bidirectional oterwise 2 check it\n",
        "    else:\n",
        "      if cell_type=='GRU':\n",
        "        if num_decoder_layer!=1:\n",
        "          self.rnn=nn.GRU(hidden_size+embedding_size,hidden_size,num_decoder_layer,dropout=dropout,bidirectional=bidirection)\n",
        "        else:\n",
        "          self.rnn=nn.GRU(hidden_size+embedding_size,hidden_size,num_decoder_layer,bidirectional=bidirection)\n",
        "      self.energy=nn.Linear(hidden_size*2,1)#  3 multiply may be due to bidirectional oterwise 2 check it\n",
        "\n",
        "    self.softmax=nn.Softmax(dim=0)\n",
        "    self.tanh=nn.Tanh()   \n",
        "    if bidirection:\n",
        "      self.fc=nn.Linear(hidden_size*2,output_vocab_size+3)#----------------------------------------------------\n",
        "    else:\n",
        "      self.fc=nn.Linear(hidden_size,output_vocab_size+3)\n",
        "  def forward(self,x,encoder_states,hidden):\n",
        "\n",
        "    x=x.unsqueeze(0)  \n",
        "    embedding=self.dropout(self.embedding(x)) \n",
        "    seq_length=encoder_states.shape[0]\n",
        "    if self.bidirection:\n",
        "      h_reshaped=hidden.repeat((seq_length//(2*self.num_layer)),1,1)\n",
        "    else:\n",
        "      h_reshaped=hidden.repeat((seq_length//(self.num_layer)),1,1)\n",
        "    energy=self.tanh(self.energy(torch.cat((h_reshaped,encoder_states),dim=2)))\n",
        "    attention=self.softmax(energy)\n",
        "    attention=attention.permute(1,2,0)\n",
        "    encoder_states=encoder_states.permute(1,0,2)#---------------------\n",
        "    context_vector=torch.bmm(attention,encoder_states)###--------\n",
        "\n",
        "    context_vector=context_vector.permute(1,0,2)\n",
        "        \n",
        "    rnn_input=torch.cat((context_vector,embedding),dim=2)\n",
        "\n",
        "    output,(hidden)=self.rnn(rnn_input,(hidden)) \n",
        "    \n",
        "    \n",
        "      \n",
        "    prediction=self.fc(output)\n",
        "    #prediction=F.softmax(prediction,dim=1)\n",
        "    prediction=prediction.squeeze(0)\n",
        "    \n",
        "    return prediction,hidden\n",
        "  \n",
        "        \n",
        "    \n",
        "class seq2seq(nn.Module):\n",
        "  def __init__(self,encoder,decoder):\n",
        "    super(seq2seq,self).__init__()\n",
        "    self.encoder=encoder\n",
        "    self.decoder=decoder\n",
        "      \n",
        "  def forward(self,source,target,teacher_forceing=0.5):\n",
        "    batch_size=source.shape[0]#64\n",
        "    self.target=target\n",
        "    self.target_len=target.shape[1]#20\n",
        "    \n",
        "    target_vocab_size=55\n",
        "    outputs=torch.zeros(self.target_len,batch_size,target_vocab_size+3).to(device)#--------------------------\n",
        "\n",
        "    encoder_states,hidden=self.encoder(source)\n",
        "    # print(\"D\",hidden.shape)\n",
        "    x=target[:,0] ## for grabing <sos> token  \n",
        "   \n",
        "    \n",
        "    for t in range(0,self.target_len):\n",
        "      # print(\"C\")\n",
        "      pred,hidden=self.decoder(x,encoder_states,hidden)  \n",
        "      \n",
        "      outputs[t]=pred\n",
        "      best_guess=pred.argmax(1)\n",
        "\n",
        "      x=target[:,t] if random.random()<teacher_forceing else best_guess\n",
        "#             print('D',target[:,t])\n",
        "    return outputs\n",
        "\n",
        "\n",
        "  def prediction(self,sources):\n",
        "    batch_size=sources.shape[0]\n",
        "    # print(\"A\",input.shape)\n",
        "    target_vocab_size=55\n",
        "\n",
        "    outputs=torch.zeros(self.target_len,batch_size,target_vocab_size+3).to(device)#--------------------------\n",
        "\n",
        "    encoder_states,hidden=self.encoder(sources)\n",
        "\n",
        "    x=sources[:,0] ## for grabing <sos> token  \n",
        "\n",
        "    \n",
        "    for t in range(0,self.target_len):\n",
        "      # print(\"B\",hidden.shape)\n",
        "      pred,hidden=self.decoder(x,encoder_states,hidden) \n",
        "      # print(\"C\")\n",
        "#             print(pred.shape) 64x57\n",
        "#             print(hidden.shape) 4x64x256\n",
        "      outputs[t]=pred\n",
        "      best_guess=pred.argmax(1)\n",
        "\n",
        "      x=best_guess\n",
        "    return outputs\n",
        "    \n",
        "        \n",
        "    \n",
        "    "
      ],
      "metadata": {
        "id": "QpsTYsY7wEm6"
      },
      "execution_count": null,
      "outputs": []
    },
    {
      "cell_type": "code",
      "source": [
        "# class Encoder(nn.Module):\n",
        "#     def __init__(self,input_size,embedding_size,hidden_size,num_layer,dropout,input_vocab_size,bidirection):\n",
        "#         super(Encoder,self).__init__()\n",
        "#         self.input_size = input_size\n",
        "        \n",
        "#         #self.embedding_size = embeddings_size\n",
        "#         self.bidirection=bidirection\n",
        "#         self.hidden_size=hidden_size\n",
        "#         self.num_layer=num_layer\n",
        "#         self.dropout=nn.Dropout(dropout)\n",
        "#         self.embedding=nn.Embedding(input_vocab_size,embedding_size)\n",
        "#         self.rnn=nn.GRU(embedding_size,hidden_size,num_layer,dropout=dropout,bidirectional=bidirection)\n",
        "# #         self.fc_hidden=nn.Linear(hidden_size*2,hidden_size) #*2 bec. of bidirectional\n",
        "        \n",
        "#     def forward(self,inputs):\n",
        "        \n",
        "#         batch_size=inputs.shape[0]\n",
        "# #         if batch_size!=64:\n",
        "# #             batch_size=64\n",
        "        \n",
        "        \n",
        "#         if self.bidirection:\n",
        "#             h0=torch.randn(2*self.num_layer,batch_size,self.hidden_size).to(device)\n",
        "#             c0=torch.randn(2*self.num_layer,batch_size,self.hidden_size).to(device)\n",
        "            \n",
        "#         else:\n",
        "#             h0=torch.randn(self.num_layer,batch_size,self.hidden_size).to(device)\n",
        "#             c0=torch.randn(self.num_layer,batch_size,self.hidden_size).to(device)\n",
        "            \n",
        "\n",
        "#         embedding=self.dropout(self.embedding(inputs)) ### (batch,28,embedding_size)\n",
        "#         embedding=torch.permute(embedding,(1,0,2))     ##(28,batch,embedding)\n",
        "\n",
        "#         encoder_states,(hidden)=self.rnn(embedding,(h0))\n",
        "#         ###shape of hidden-(4,64,256)\n",
        "# #         hidden=self.fc_hidden(torch.cat((hidden[0:2],hidden[2:]),dim=2))#-------------------###################\n",
        "        \n",
        "        \n",
        "#         return encoder_states,hidden\n",
        "# class Decoder(nn.Module):\n",
        "#     def __init__(self,input_size,embedding_size,hidden_size,output_vocab_size,num_layer,dropout,bidirection):\n",
        "#         super(Decoder,self).__init__()\n",
        "        \n",
        "#         self.hidden_size=hidden_size\n",
        "#         self.num_layer=num_layer\n",
        "#         self.dropout=nn.Dropout(dropout)\n",
        "#         self.embedding=nn.Embedding(output_vocab_size+3,embedding_size)       ## +3 because there are total 54+3=57 unique token\n",
        "#         self.rnn=nn.GRU(hidden_size*2+embedding_size,hidden_size,num_layer,dropout=dropout,bidirectional=bidirection)\n",
        "#         self.energy=nn.Linear(hidden_size*3,1)#  3 multiply may be due to bidirectional oterwise 2 check it\n",
        "#         self.softmax=nn.Softmax(dim=0)\n",
        "#         self.tanh=nn.Tanh()\n",
        "#         if bidirection:\n",
        "#             self.fc=nn.Linear(hidden_size*2,output_vocab_size+3)#----------------------------------------------------\n",
        "#         else:\n",
        "#             self.fc=nn.Linear(hidden_size,output_vocab_size+3)\n",
        "#     def forward(self,x,encoder_states,hidden):\n",
        "\n",
        "#         x=x.unsqueeze(0)\n",
        "        \n",
        "#         embedding=self.dropout(self.embedding(x))\n",
        "#         seq_length=encoder_states.shape[0]  #----------check the is it 28 or not\n",
        "        \n",
        "        \n",
        "#         h_reshaped=hidden.repeat((seq_length//(2*self.num_layer)),1,1) ### you can't take more than 2\n",
        "        \n",
        "#         energy=self.tanh(self.energy(torch.cat((h_reshaped,encoder_states),dim=2)))#####################\n",
        "# #         print('energy',energy.shape)\n",
        "#         attention=self.softmax(energy)  # 28x64x1--------------------check the shape here and a/c do permute\n",
        "# #         print(\"att\",attention.shape)\n",
        "#         attention=attention.permute(1,2,0) \n",
        "    \n",
        "# #         print(\"att2\",attention.shape)\n",
        "#         encoder_states=encoder_states.permute(1,0,2)#---------------------\n",
        "# #         print(\"es\",encoder_states.shape)\n",
        "#         context_vector=torch.bmm(attention,encoder_states)###--------\n",
        "# #         print(\"cntx\",context_vector.shape)\n",
        "#         context_vector=context_vector.permute(1,0,2)\n",
        "        \n",
        "#         rnn_input=torch.cat((context_vector,embedding),dim=2)\n",
        "        \n",
        "# #         print(hidden.shape)\n",
        "\n",
        "#         output,(hidden)=self.rnn(rnn_input,(hidden)) \n",
        "#         #print(\"OD\",output.shape,hidden.shape)\n",
        "#         prediction=self.fc(output)\n",
        "#         #print('A')\n",
        "#         prediction=F.log_softmax(prediction,dim=1)\n",
        "#         prediction=prediction.squeeze(0)\n",
        "        \n",
        "#         return prediction,hidden\n",
        "        \n",
        "        \n",
        "        \n",
        "    \n",
        "# class seq2seq(nn.Module):\n",
        "#     def __init__(self,encoder,decoder):\n",
        "#         super(seq2seq,self).__init__()\n",
        "#         self.encoder=encoder\n",
        "#         self.decoder=decoder\n",
        "        \n",
        "#     def forward(self,source,target,teacher_forceing=0.5):\n",
        "        \n",
        "#         batch_size=source.shape[0]#64\n",
        "# #         if batch_size!=64:\n",
        "# #             batch_size=64\n",
        "#         self.target_len=target.shape[1]#20\n",
        "        \n",
        "#         target_vocab_size=55\n",
        "#         outputs=torch.zeros(self.target_len,batch_size,target_vocab_size+3).to(device)#--------------------------\n",
        "# #         print('C',output.shape)\n",
        "#         encoder_states,hidden=self.encoder(source)\n",
        "# #         print(\"A\",hidden.shape)\n",
        "#         x=target[:,0] ## for grabing <sos> token  \n",
        "# #         print(x.shape)\n",
        "        \n",
        "#         for t in range(0,self.target_len):\n",
        "#             pred,hidden=self.decoder(x,encoder_states,hidden)  ##or there error\n",
        "# #             print(pred.shape) 64x57\n",
        "# #             print(hidden.shape) 4x64x256\n",
        "#             outputs[t]=pred\n",
        "            \n",
        "#             best_guess=pred.argmax(1)\n",
        "# #             print(\"best\",best_guess.shape) 64 batch of each time step\n",
        "#             x=target[:,t] if random.random()<teacher_forceing else best_guess\n",
        "# #             print('D',target[:,t])\n",
        "#         return outputs\n",
        "\n",
        "    \n",
        "#     def prediction(self,sources):\n",
        "#         batch_size=sources.shape[0]\n",
        "#         # print(\"A\",input.shape)\n",
        "#         target_vocab_size=55\n",
        "\n",
        "#         outputs=torch.zeros(self.target_len,batch_size,target_vocab_size+3).to(device)#--------------------------\n",
        "\n",
        "#         encoder_states,hidden=self.encoder(sources)\n",
        "\n",
        "#         x=sources[:,0] ## for grabing <sos> token  \n",
        "\n",
        "\n",
        "#         for t in range(0,self.target_len):\n",
        "            \n",
        "            \n",
        "#               # print(\"B\",hidden.shape)\n",
        "#             pred,hidden=self.decoder(x,encoder_states,hidden)  ##or there error\n",
        "#               # print(\"C\")\n",
        "#         #             print(pred.shape) 64x57\n",
        "#         #             print(hidden.shape) 4x64x256\n",
        "#             outputs[t]=pred\n",
        "\n",
        "#             best_guess=pred.argmax(1)\n",
        "#         #             print(\"best\",best_guess.shape) 64 batch of each time step\n",
        "#             x=best_guess\n",
        "#         return outputs\n",
        "    \n",
        "    "
      ],
      "metadata": {
        "id": "0k8-eLlCUs03"
      },
      "execution_count": null,
      "outputs": []
    },
    {
      "cell_type": "code",
      "source": [
        "!pip install wandb"
      ],
      "metadata": {
        "colab": {
          "base_uri": "https://localhost:8080/"
        },
        "id": "bym5ANV95VWu",
        "outputId": "d1a7bc22-8211-43d2-f913-23792feec8e5"
      },
      "execution_count": null,
      "outputs": [
        {
          "output_type": "stream",
          "name": "stdout",
          "text": [
            "Looking in indexes: https://pypi.org/simple, https://us-python.pkg.dev/colab-wheels/public/simple/\n",
            "Requirement already satisfied: wandb in /usr/local/lib/python3.10/dist-packages (0.15.3)\n",
            "Requirement already satisfied: Click!=8.0.0,>=7.0 in /usr/local/lib/python3.10/dist-packages (from wandb) (8.1.3)\n",
            "Requirement already satisfied: GitPython!=3.1.29,>=1.0.0 in /usr/local/lib/python3.10/dist-packages (from wandb) (3.1.31)\n",
            "Requirement already satisfied: requests<3,>=2.0.0 in /usr/local/lib/python3.10/dist-packages (from wandb) (2.27.1)\n",
            "Requirement already satisfied: psutil>=5.0.0 in /usr/local/lib/python3.10/dist-packages (from wandb) (5.9.5)\n",
            "Requirement already satisfied: sentry-sdk>=1.0.0 in /usr/local/lib/python3.10/dist-packages (from wandb) (1.23.1)\n",
            "Requirement already satisfied: docker-pycreds>=0.4.0 in /usr/local/lib/python3.10/dist-packages (from wandb) (0.4.0)\n",
            "Requirement already satisfied: PyYAML in /usr/local/lib/python3.10/dist-packages (from wandb) (6.0)\n",
            "Requirement already satisfied: pathtools in /usr/local/lib/python3.10/dist-packages (from wandb) (0.1.2)\n",
            "Requirement already satisfied: setproctitle in /usr/local/lib/python3.10/dist-packages (from wandb) (1.3.2)\n",
            "Requirement already satisfied: setuptools in /usr/local/lib/python3.10/dist-packages (from wandb) (67.7.2)\n",
            "Requirement already satisfied: appdirs>=1.4.3 in /usr/local/lib/python3.10/dist-packages (from wandb) (1.4.4)\n",
            "Requirement already satisfied: protobuf!=4.21.0,<5,>=3.19.0 in /usr/local/lib/python3.10/dist-packages (from wandb) (3.20.3)\n",
            "Requirement already satisfied: six>=1.4.0 in /usr/local/lib/python3.10/dist-packages (from docker-pycreds>=0.4.0->wandb) (1.16.0)\n",
            "Requirement already satisfied: gitdb<5,>=4.0.1 in /usr/local/lib/python3.10/dist-packages (from GitPython!=3.1.29,>=1.0.0->wandb) (4.0.10)\n",
            "Requirement already satisfied: urllib3<1.27,>=1.21.1 in /usr/local/lib/python3.10/dist-packages (from requests<3,>=2.0.0->wandb) (1.26.15)\n",
            "Requirement already satisfied: certifi>=2017.4.17 in /usr/local/lib/python3.10/dist-packages (from requests<3,>=2.0.0->wandb) (2022.12.7)\n",
            "Requirement already satisfied: charset-normalizer~=2.0.0 in /usr/local/lib/python3.10/dist-packages (from requests<3,>=2.0.0->wandb) (2.0.12)\n",
            "Requirement already satisfied: idna<4,>=2.5 in /usr/local/lib/python3.10/dist-packages (from requests<3,>=2.0.0->wandb) (3.4)\n",
            "Requirement already satisfied: smmap<6,>=3.0.1 in /usr/local/lib/python3.10/dist-packages (from gitdb<5,>=4.0.1->GitPython!=3.1.29,>=1.0.0->wandb) (5.0.0)\n"
          ]
        }
      ]
    },
    {
      "cell_type": "code",
      "source": [
        "import wandb"
      ],
      "metadata": {
        "id": "wpWAnsbI5VFm"
      },
      "execution_count": null,
      "outputs": []
    },
    {
      "cell_type": "code",
      "source": [
        "!wandb login --relogin"
      ],
      "metadata": {
        "colab": {
          "base_uri": "https://localhost:8080/"
        },
        "id": "hscDsYmc5f4U",
        "outputId": "5eb66a6f-3660-4941-a444-aca498b48885"
      },
      "execution_count": null,
      "outputs": [
        {
          "output_type": "stream",
          "name": "stdout",
          "text": [
            "\u001b[34m\u001b[1mwandb\u001b[0m: Logging into wandb.ai. (Learn how to deploy a W&B server locally: https://wandb.me/wandb-server)\n",
            "\u001b[34m\u001b[1mwandb\u001b[0m: You can find your API key in your browser here: https://wandb.ai/authorize\n",
            "\u001b[34m\u001b[1mwandb\u001b[0m: Paste an API key from your profile and hit enter, or press ctrl+c to quit: \n",
            "\u001b[34m\u001b[1mwandb\u001b[0m: Appending key for api.wandb.ai to your netrc file: /root/.netrc\n"
          ]
        }
      ]
    },
    {
      "cell_type": "code",
      "source": [
        "sweep_configuration={'name':'EE22s037','method':'bayes',\n",
        "                     'metric':{'name':'val_acc','goal':'maximize'},\n",
        "                     'parameters':{'embedding_size':{'values':[64,128,256]},\n",
        "                                  'num_encoder_layer':{'values':[1,2]},\n",
        "                                  # 'num_decoder_layer':{'values':[1,2,3]},\n",
        "                                  'hidden_layer_size':{'values':[64,256,512]},\n",
        "                                  # 'cell_type':{'values':['LSTM','GRU']},\n",
        "                                  'dropout':{'values':[0.2,0.3]},\n",
        "                                  'bidirection':{'values':[False]}\n",
        "                         \n",
        "                                 }\n",
        "    \n",
        "                    }\n",
        "\n",
        "\n",
        "def train():\n",
        "\n",
        "  wandb.init()\n",
        "  epochs=20\n",
        "  learning_rate=0.001\n",
        "  batch_size=64\n",
        "  \n",
        "  load_model=False\n",
        "  input_size_encoder=28\n",
        "  input_size_decoder=20\n",
        "  input_vocab_size=29\n",
        "  output_vocab_size=55\n",
        "  cell_type='GRU'\n",
        "  encoder_embedding_size=wandb.config.embedding_size\n",
        "  decoder_embedding_size=wandb.config.embedding_size\n",
        "  hidden_size=wandb.config.hidden_layer_size\n",
        "  num_encoder_layers=wandb.config.num_encoder_layer\n",
        "  num_decoder_layers=wandb.config.num_encoder_layer\n",
        "  enc_dropout=wandb.config.dropout\n",
        "  dec_dropout=wandb.config.dropout\n",
        "  bidirection=wandb.config.bidirection\n",
        "  run_name=\"ees_{}_des_{}_hs_{}_nel_{}_ndl_{}_ed_{}_dd_{}_ct_{}_bd_{}\".format(encoder_embedding_size,decoder_embedding_size,hidden_size,num_encoder_layers,num_decoder_layers,enc_dropout,dec_dropout,cell_type,bidirection)\n",
        "  print(\"run_name:\",run_name)\n",
        "  encoder_net=Encoder(input_size_encoder,encoder_embedding_size,\n",
        "                  hidden_size,num_encoder_layers,enc_dropout,input_vocab_size,bidirection,cell_type).to(device)\n",
        "  decoder_net=Decoder_Attn(input_size_decoder,decoder_embedding_size,\n",
        "                  hidden_size,output_vocab_size,num_decoder_layers,dec_dropout,bidirection,cell_type).to(device)\n",
        "\n",
        "  model=seq2seq(encoder_net,decoder_net).to(device)\n",
        "  optimizer = optim.Adam(model.parameters(), lr=learning_rate)   \n",
        "  criterion=nn.CrossEntropyLoss()#ignore_index=output_vocab_size)\n",
        "  best_accuracy=0\n",
        "  train_Loss=[]\n",
        "  train_Acc_char=[]\n",
        "  # train_Acc_word=[]\n",
        "  val_Loss=[]\n",
        "  val_Acc_char=[]\n",
        "  val_Acc_word=[]\n",
        "  for epoch in range(epochs):\n",
        "\n",
        "  \n",
        "    model.train()\n",
        "    train_accuracy_char=0.0\n",
        "    num_correct_train_char=0\n",
        "    train_accuracy_word=0\n",
        "    train_loss = 0.0\n",
        "    num_correct_train_word=0\n",
        "    for i, (inputs, target) in enumerate(train_data_set):\n",
        "        \n",
        "      inputs=inputs.to(device)\n",
        "      target=target.to(device)\n",
        "\n",
        "      optimizer.zero_grad()\n",
        "      \n",
        "      output = model(inputs,target)\n",
        "      output=torch.permute(output,(1,0,2))\n",
        "      # print(output.shape)\n",
        "      output1=output[1:].reshape(-1,output.shape[2])\n",
        "      \n",
        "      target1=target[1:].reshape(-1)\n",
        "    \n",
        "\n",
        "      loss = criterion(output1, target1)\n",
        "      \n",
        "      loss.backward()\n",
        "      torch.nn.utils.clip_grad_norm_(model.parameters(),max_norm = 1)\n",
        "      optimizer.step()\n",
        "      train_loss += loss.item()\n",
        "      # predict=F.softmax(output,dim=1)\n",
        "      predictionss=torch.argmax(output,dim=2)#20x64\n",
        "      \n",
        "      # predictionss=torch.permute(predictionss,(1,0))#64x20\n",
        "      \n",
        "      # print(\"pred\",predictionss[])\n",
        "      num_correct_train_char += (predictionss == target).sum().item()\n",
        "\n",
        "      # # FINDING WORD LEVEL ACCURACY\n",
        "      # z=(predictionss == target).sum(-1)\n",
        "        \n",
        "      # num_correct_train_word+=(z==20).sum().item()\n",
        "\n",
        "      # for j in range(len(predictionss)): #len(predictions)=64 and len(predictions[j])=20\n",
        "      #   predicted_sentence = ''\n",
        "      #   target_sentence = ''\n",
        "      #   for k in range(len(predictionss[j])):\n",
        "      #     if (predictionss[j][k].item()!=55 and predictionss[j][k].item()!=56 and predictionss[j][k].item()!=57) and (target[j][k].item()!=55 and target[j][k].item()!=56 and target[j][k].item()!=57 ): \n",
        "      #       predicted_sentence += target_id_to_char[predictionss[j][k].item()]\n",
        "            \n",
        "      #       target_sentence += target_id_to_char[target[j][k].item()]\n",
        "      #   if predicted_sentence==target_sentence:\n",
        "      #     num_correct_train_word+=1\n",
        "    \n",
        "\n",
        "    train_accuracy_char= (num_correct_train_char/(len(train_data_set)*batch_size*20))*100 \n",
        "    train_loss=(train_loss/(len(train_data_set)*batch_size))*100\n",
        "    # train_accuracy_word= (num_correct_train_word/(len(train_data_set)*batch_size))*100\n",
        "    train_Acc_char.append(train_accuracy_char)\n",
        "    train_Loss.append(train_loss)\n",
        "\n",
        "\n",
        "    # print('Epoch [{}/{}], Train Loss: {:.4f}'.format(epoch+1, epochs, running_loss/(len(train_data_set)*batch_size)))\n",
        "\n",
        "    model.eval()\n",
        "    val_loss = 0.0\n",
        "    val_accuracy_char=0.0\n",
        "    num_correct_val_char=0\n",
        "    val_accuracy_word=0\n",
        "    num_correct_val_word=0\n",
        "    with torch.no_grad():\n",
        "      for i, (inputs, target) in enumerate(valid_data_set):\n",
        "        inputs=inputs.to(device)\n",
        "\n",
        "        target=target.to(device)\n",
        "        \n",
        "        output = model.prediction(inputs)#20x64x58\n",
        "        \n",
        "        output=torch.permute(output,(1,0,2))#64x20x58\n",
        "        output2=output[1:].reshape(-1,output.shape[2])  ########################3\n",
        "        \n",
        "        # output1=output[1:].argmax(2).reshape(-1)\n",
        "        target2=target[1:].reshape(-1)\n",
        "        \n",
        "        loss = criterion(output2, target2)\n",
        "        \n",
        "        val_loss += loss.item()\n",
        "        # predict=F.softmax(output,dim=1)\n",
        "        predictions=torch.argmax(output,dim=2)#20x64\n",
        "        # predictionss=torch.permute(predictionss,(1,0))#64x20\n",
        "        num_correct_val_char += (predictions == target).sum().item()\n",
        "        z=(predictions == target).sum(-1)\n",
        "        num_correct_val_word+=(z==20).sum().item()\n",
        "        # for j in range(len(predictionss)): #len(predictions)=64 and len(predictions[j])=20\n",
        "        #   predicted_sentence = ''\n",
        "        #   target_sentence = ''\n",
        "        #   for k in range(len(predictionss[j])):\n",
        "        #     if (predictionss[j][k].item()!=55 and predictionss[j][k].item()!=56 and predictionss[j][k].item()!=57) and (target[j][k].item()!=55 and target[j][k].item()!=56 and target[j][k].item()!=57 ): \n",
        "        #       predicted_sentence += target_id_to_char[predictionss[j][k].item()]\n",
        "              \n",
        "        #       target_sentence += target_id_to_char[target[j][k].item()]\n",
        "        #   if predicted_sentence==target_sentence:\n",
        "        #     num_correct_val_word+=1\n",
        "\n",
        "\n",
        "      \n",
        "      val_loss=(train_loss/(len(valid_data_set)*batch_size))*100\n",
        "      val_accuracy_char=(num_correct_val_char/(len(valid_data_set)*batch_size*20))*100\n",
        "      val_accuracy_word=(num_correct_val_word/(len(valid_data_set)*batch_size))*100\n",
        "      val_Acc_char.append(val_accuracy_char)\n",
        "      val_Loss.append(val_loss)\n",
        "      val_Acc_word.append(val_accuracy_word)\n",
        "    wandb.log({#'epoch':e,\n",
        "            \n",
        "            'train_loss':train_loss,\n",
        "            'val_acc': val_accuracy_char,\n",
        "            'val_loss':val_loss ,\n",
        "            'val_accuracy_word':val_accuracy_word      \n",
        "          })\n",
        "\n",
        "  print(\"max__train_accuracy_char:\",np.max(train_Acc_char))\n",
        "  print(\"max__validation_accuracy_char:\",np.max(val_Acc_char))\n",
        "  print(\"min_train_loss:\",np.min(train_Loss))\n",
        "  print(\"min_validation_loss:\",np.min(val_Loss))\n",
        "  print(\"max__validation_accuracy_word:\",np.max(val_Acc_word))\n",
        "  plt.plot(train_Loss, 'r', label=\"Training loss\")\n",
        "  plt.plot(val_Loss, 'lime', label=\"Validation loss\")\n",
        "  plt.title(\"Training and Validation Loss vs Number of Epochs\", size=15)\n",
        "  plt.xlabel(\"Number of epochs\", size=15)\n",
        "  plt.ylabel(\"Loss\", size=15)\n",
        "  plt.legend()\n",
        "  plt.show()\n",
        "\n",
        "\n",
        "  plt.plot(train_Acc_char, 'r', label=\"Training Accuracy\")\n",
        "  plt.plot(val_Acc_char ,'lime', label=\"Validation Accuracy_char\")\n",
        "  plt.plot(val_Acc_word,'b',label=\"Validation Accuracy_word\")\n",
        "  plt.title(\"Training and Validation Accuracy vs Number of Epochs\", size=15)\n",
        "  plt.xlabel(\"Number of epochs\", size=15)\n",
        "  plt.ylabel(\"Accuracy\", size=15)\n",
        "  plt.legend()\n",
        "  plt.show()   \n",
        "  wandb.run.name = run_name\n",
        "  wandb.run.save()\n",
        "  wandb.run.finish()\n",
        "\n",
        "sweep_id=wandb.sweep(sweep=sweep_configuration,entity=\"amanvb-9213\",project='DL-assignment3')\n",
        "# sweep_id=\n",
        "wandb.agent(sweep_id,function=train,count=25)\n",
        "# wandb.agent(sweep_id,function=train,entity=\"amanvb-9213\",project='DL-assignment3')\n",
        "\n",
        "\n"
      ],
      "metadata": {
        "colab": {
          "base_uri": "https://localhost:8080/",
          "height": 1000
        },
        "id": "b2BX_ql-wTRB",
        "outputId": "941e9893-b02b-40f5-b359-399bc8ad6b7a"
      },
      "execution_count": null,
      "outputs": [
        {
          "output_type": "stream",
          "name": "stdout",
          "text": [
            "Create sweep with ID: wp7vuv2v\n",
            "Sweep URL: https://wandb.ai/amanvb-9213/DL-assignment3/sweeps/wp7vuv2v\n"
          ]
        },
        {
          "output_type": "stream",
          "name": "stderr",
          "text": [
            "\u001b[34m\u001b[1mwandb\u001b[0m: Agent Starting Run: khf6sza9 with config:\n",
            "\u001b[34m\u001b[1mwandb\u001b[0m: \tbidirection: False\n",
            "\u001b[34m\u001b[1mwandb\u001b[0m: \tdropout: 0.3\n",
            "\u001b[34m\u001b[1mwandb\u001b[0m: \tembedding_size: 128\n",
            "\u001b[34m\u001b[1mwandb\u001b[0m: \thidden_layer_size: 64\n",
            "\u001b[34m\u001b[1mwandb\u001b[0m: \tnum_encoder_layer: 1\n"
          ]
        },
        {
          "output_type": "display_data",
          "data": {
            "text/plain": [
              "<IPython.core.display.HTML object>"
            ],
            "text/html": [
              "Tracking run with wandb version 0.15.3"
            ]
          },
          "metadata": {}
        },
        {
          "output_type": "display_data",
          "data": {
            "text/plain": [
              "<IPython.core.display.HTML object>"
            ],
            "text/html": [
              "Run data is saved locally in <code>/content/wandb/run-20230521_043906-khf6sza9</code>"
            ]
          },
          "metadata": {}
        },
        {
          "output_type": "display_data",
          "data": {
            "text/plain": [
              "<IPython.core.display.HTML object>"
            ],
            "text/html": [
              "Syncing run <strong><a href='https://wandb.ai/amanvb-9213/DL-assignment3/runs/khf6sza9' target=\"_blank\">genial-sweep-1</a></strong> to <a href='https://wandb.ai/amanvb-9213/DL-assignment3' target=\"_blank\">Weights & Biases</a> (<a href='https://wandb.me/run' target=\"_blank\">docs</a>)<br/>Sweep page: <a href='https://wandb.ai/amanvb-9213/DL-assignment3/sweeps/wp7vuv2v' target=\"_blank\">https://wandb.ai/amanvb-9213/DL-assignment3/sweeps/wp7vuv2v</a>"
            ]
          },
          "metadata": {}
        },
        {
          "output_type": "display_data",
          "data": {
            "text/plain": [
              "<IPython.core.display.HTML object>"
            ],
            "text/html": [
              " View project at <a href='https://wandb.ai/amanvb-9213/DL-assignment3' target=\"_blank\">https://wandb.ai/amanvb-9213/DL-assignment3</a>"
            ]
          },
          "metadata": {}
        },
        {
          "output_type": "display_data",
          "data": {
            "text/plain": [
              "<IPython.core.display.HTML object>"
            ],
            "text/html": [
              " View sweep at <a href='https://wandb.ai/amanvb-9213/DL-assignment3/sweeps/wp7vuv2v' target=\"_blank\">https://wandb.ai/amanvb-9213/DL-assignment3/sweeps/wp7vuv2v</a>"
            ]
          },
          "metadata": {}
        },
        {
          "output_type": "display_data",
          "data": {
            "text/plain": [
              "<IPython.core.display.HTML object>"
            ],
            "text/html": [
              " View run at <a href='https://wandb.ai/amanvb-9213/DL-assignment3/runs/khf6sza9' target=\"_blank\">https://wandb.ai/amanvb-9213/DL-assignment3/runs/khf6sza9</a>"
            ]
          },
          "metadata": {}
        },
        {
          "output_type": "stream",
          "name": "stdout",
          "text": [
            "run_name: ees_128_des_128_hs_64_nel_1_ndl_1_ed_0.3_dd_0.3_ct_GRU_bd_False\n",
            "max__train_accuracy_char: 89.798046875\n",
            "max__validation_accuracy_char: 86.712646484375\n",
            "min_train_loss: 0.503635292610852\n",
            "min_validation_loss: 0.01229578351100713\n",
            "max__validation_accuracy_word: 30.5419921875\n"
          ]
        },
        {
          "output_type": "display_data",
          "data": {
            "text/plain": [
              "<Figure size 640x480 with 1 Axes>"
            ],
            "image/png": "[encoded data removed]"
          },
          "metadata": {}
        },
        {
          "output_type": "display_data",
          "data": {
            "text/plain": [
              "<Figure size 640x480 with 1 Axes>"
            ],
            "image/png": "[encoded data removed]"
          },
          "metadata": {}
        },
        {
          "output_type": "stream",
          "name": "stderr",
          "text": [
            "\u001b[34m\u001b[1mwandb\u001b[0m: \u001b[33mWARNING\u001b[0m Calling wandb.run.save without any arguments is deprecated.Changes to attributes are automatically persisted.\n"
          ]
        },
        {
          "output_type": "display_data",
          "data": {
            "text/plain": [
              "<IPython.core.display.HTML object>"
            ],
            "text/html": [
              "Waiting for W&B process to finish... <strong style=\"color:green\">(success).</strong>"
            ]
          },
          "metadata": {}
        },
        {
          "output_type": "display_data",
          "data": {
            "text/plain": [
              "<IPython.core.display.HTML object>"
            ],
            "text/html": [
              "<style>\n",
              "    table.wandb td:nth-child(1) { padding: 0 10px; text-align: left ; width: auto;} td:nth-child(2) {text-align: left ; width: 100%}\n",
              "    .wandb-row { display: flex; flex-direction: row; flex-wrap: wrap; justify-content: flex-start; width: 100% }\n",
              "    .wandb-col { display: flex; flex-direction: column; flex-basis: 100%; flex: 1; padding: 10px; }\n",
              "    </style>\n",
              "<div class=\"wandb-row\"><div class=\"wandb-col\"><h3>Run history:</h3><br/><table class=\"wandb\"><tr><td>train_loss</td><td>█▅▃▃▂▂▂▂▂▁▁▁▁▁▁▁▁▁▁▁</td></tr><tr><td>val_acc</td><td>▁▃▅▆▆▇▇▇█▇▇▇▇▇██████</td></tr><tr><td>val_accuracy_word</td><td>▁▂▄▅▅▆▆▆▇▇▇▇▇▇██████</td></tr><tr><td>val_loss</td><td>█▅▃▃▂▂▂▂▂▁▁▁▁▁▁▁▁▁▁▁</td></tr></table><br/></div><div class=\"wandb-col\"><h3>Run summary:</h3><br/><table class=\"wandb\"><tr><td>train_loss</td><td>0.50364</td></tr><tr><td>val_acc</td><td>86.51733</td></tr><tr><td>val_accuracy_word</td><td>29.3457</td></tr><tr><td>val_loss</td><td>0.0123</td></tr></table><br/></div></div>"
            ]
          },
          "metadata": {}
        },
        {
          "output_type": "display_data",
          "data": {
            "text/plain": [
              "<IPython.core.display.HTML object>"
            ],
            "text/html": [
              " View run <strong style=\"color:#cdcd00\">genial-sweep-1</strong> at: <a href='https://wandb.ai/amanvb-9213/DL-assignment3/runs/khf6sza9' target=\"_blank\">https://wandb.ai/amanvb-9213/DL-assignment3/runs/khf6sza9</a><br/>Synced 5 W&B file(s), 0 media file(s), 0 artifact file(s) and 0 other file(s)"
            ]
          },
          "metadata": {}
        },
        {
          "output_type": "display_data",
          "data": {
            "text/plain": [
              "<IPython.core.display.HTML object>"
            ],
            "text/html": [
              "Find logs at: <code>./wandb/run-20230521_043906-khf6sza9/logs</code>"
            ]
          },
          "metadata": {}
        },
        {
          "output_type": "stream",
          "name": "stderr",
          "text": [
            "\u001b[34m\u001b[1mwandb\u001b[0m: Agent Starting Run: a81wivc2 with config:\n",
            "\u001b[34m\u001b[1mwandb\u001b[0m: \tbidirection: False\n",
            "\u001b[34m\u001b[1mwandb\u001b[0m: \tdropout: 0.2\n",
            "\u001b[34m\u001b[1mwandb\u001b[0m: \tembedding_size: 128\n",
            "\u001b[34m\u001b[1mwandb\u001b[0m: \thidden_layer_size: 64\n",
            "\u001b[34m\u001b[1mwandb\u001b[0m: \tnum_encoder_layer: 1\n"
          ]
        },
        {
          "output_type": "display_data",
          "data": {
            "text/plain": [
              "<IPython.core.display.HTML object>"
            ],
            "text/html": [
              "Tracking run with wandb version 0.15.3"
            ]
          },
          "metadata": {}
        },
        {
          "output_type": "display_data",
          "data": {
            "text/plain": [
              "<IPython.core.display.HTML object>"
            ],
            "text/html": [
              "Run data is saved locally in <code>/content/wandb/run-20230521_044901-a81wivc2</code>"
            ]
          },
          "metadata": {}
        },
        {
          "output_type": "display_data",
          "data": {
            "text/plain": [
              "<IPython.core.display.HTML object>"
            ],
            "text/html": [
              "Syncing run <strong><a href='https://wandb.ai/amanvb-9213/DL-assignment3/runs/a81wivc2' target=\"_blank\">dauntless-sweep-2</a></strong> to <a href='https://wandb.ai/amanvb-9213/DL-assignment3' target=\"_blank\">Weights & Biases</a> (<a href='https://wandb.me/run' target=\"_blank\">docs</a>)<br/>Sweep page: <a href='https://wandb.ai/amanvb-9213/DL-assignment3/sweeps/wp7vuv2v' target=\"_blank\">https://wandb.ai/amanvb-9213/DL-assignment3/sweeps/wp7vuv2v</a>"
            ]
          },
          "metadata": {}
        },
        {
          "output_type": "display_data",
          "data": {
            "text/plain": [
              "<IPython.core.display.HTML object>"
            ],
            "text/html": [
              " View project at <a href='https://wandb.ai/amanvb-9213/DL-assignment3' target=\"_blank\">https://wandb.ai/amanvb-9213/DL-assignment3</a>"
            ]
          },
          "metadata": {}
        },
        {
          "output_type": "display_data",
          "data": {
            "text/plain": [
              "<IPython.core.display.HTML object>"
            ],
            "text/html": [
              " View sweep at <a href='https://wandb.ai/amanvb-9213/DL-assignment3/sweeps/wp7vuv2v' target=\"_blank\">https://wandb.ai/amanvb-9213/DL-assignment3/sweeps/wp7vuv2v</a>"
            ]
          },
          "metadata": {}
        },
        {
          "output_type": "display_data",
          "data": {
            "text/plain": [
              "<IPython.core.display.HTML object>"
            ],
            "text/html": [
              " View run at <a href='https://wandb.ai/amanvb-9213/DL-assignment3/runs/a81wivc2' target=\"_blank\">https://wandb.ai/amanvb-9213/DL-assignment3/runs/a81wivc2</a>"
            ]
          },
          "metadata": {}
        },
        {
          "output_type": "stream",
          "name": "stdout",
          "text": [
            "run_name: ees_128_des_128_hs_64_nel_1_ndl_1_ed_0.2_dd_0.2_ct_GRU_bd_False\n"
          ]
        }
      ]
    },
    {
      "cell_type": "code",
      "source": [],
      "metadata": {
        "colab": {
          "base_uri": "https://localhost:8080/",
          "height": 165
        },
        "id": "eilHyJn6v02D",
        "outputId": "6c993dfa-2a3c-43cf-84a1-6031f230e281"
      },
      "execution_count": null,
      "outputs": [
        {
          "output_type": "error",
          "ename": "NameError",
          "evalue": "ignored",
          "traceback": [
            "\u001b[0;31m---------------------------------------------------------------------------\u001b[0m",
            "\u001b[0;31mNameError\u001b[0m                                 Traceback (most recent call last)",
            "\u001b[0;32m<ipython-input-15-9927befa4053>\u001b[0m in \u001b[0;36m<cell line: 1>\u001b[0;34m()\u001b[0m\n\u001b[0;32m----> 1\u001b[0;31m \u001b[0mcn82ef7k\u001b[0m\u001b[0;34m\u001b[0m\u001b[0;34m\u001b[0m\u001b[0m\n\u001b[0m",
            "\u001b[0;31mNameError\u001b[0m: name 'cn82ef7k' is not defined"
          ]
        }
      ]
    },
    {
      "cell_type": "code",
      "source": [
        "vh5udfer"
      ],
      "metadata": {
        "id": "9ZqQxRvUrkcv"
      },
      "execution_count": null,
      "outputs": []
    },
    {
      "cell_type": "code",
      "source": [
        "def train_best_model():\n",
        "\n",
        "  # wandb.init()\n",
        "  epochs=20\n",
        "  learning_rate=0.001\n",
        "  batch_size=64\n",
        "  \n",
        "  input_size_encoder=28\n",
        "  input_size_decoder=20\n",
        "  input_vocab_size=29\n",
        "  output_vocab_size=55\n",
        "  cell_type='LSTM'\n",
        "  encoder_embedding_size=256\n",
        "  decoder_embedding_size=256\n",
        "  hidden_size=512\n",
        "  num_encoder_layers=3\n",
        "  num_decoder_layers=3\n",
        "  enc_dropout=0.3\n",
        "  dec_dropout=0.3\n",
        "  bidirection=True\n",
        "  run_name=\"ees_{}_des_{}_hs_{}_nl_{}_ed_{}_dd_{}_ct_{}_bd_{}\".format(encoder_embedding_size,decoder_embedding_size,hidden_size,num_layers,enc_dropout,dec_dropout,cell_type,bidirection)\n",
        "  print(\"run_name:\",run_name)\n",
        "  encoder_net=Encoder(input_size_encoder,encoder_embedding_size,\n",
        "                  hidden_size,num_layers,enc_dropout,input_vocab_size,bidirection,cell_type).to(device)\n",
        "  decoder_net=Decoder(input_size_decoder,decoder_embedding_size,\n",
        "                  hidden_size,output_vocab_size,num_layers,dec_dropout,bidirection,cell_type).to(device)\n",
        "\n",
        "  model=seq2seq(encoder_net,decoder_net).to(device)\n",
        "  optimizer = optim.Adam(model.parameters(), lr=learning_rate)   \n",
        "  criterion=nn.CrossEntropyLoss(ignore_index=output_vocab_size)\n",
        "  best_accuracy=0\n",
        "  train_Loss=[]\n",
        "  train_Acc=[]\n",
        "  val_Loss=[]\n",
        "  val_Acc=[]\n",
        "  for epoch in range(epochs):\n",
        "\n",
        "  \n",
        "    model.train()\n",
        "    train_accuracy=0.0\n",
        "    train_loss = 0.0\n",
        "    for i, (inputs, target) in enumerate(train_data_set):\n",
        "        \n",
        "      inputs=inputs.to(device)\n",
        "      target=target.to(device)\n",
        "\n",
        "      optimizer.zero_grad()\n",
        "\n",
        "      output = model(inputs,target)\n",
        "\n",
        "      output1=output[:].reshape(-1,output.shape[2])\n",
        "\n",
        "      target1=target[:].reshape(-1)\n",
        "\n",
        "      loss = criterion(output1, target1)\n",
        "      loss.backward()\n",
        "      optimizer.step()\n",
        "      train_loss += loss.item()\n",
        "      predictions=torch.argmax(output,dim=2)#20x64\n",
        "      predictions=torch.permute(predictions,(1,0))#64x20\n",
        "\n",
        "      train_accuracy += (predictions == target).sum().item()\n",
        "      \n",
        "    train_accuracy= (train_accuracy/(len(train_data_set)*batch_size))*100 \n",
        "    train_loss=(train_loss/(len(train_data_set)*batch_size))*100\n",
        "    \n",
        "    train_Acc.append(train_accuracy)\n",
        "    train_Loss.append(train_loss)\n",
        "\n",
        "\n",
        "    # print('Epoch [{}/{}], Train Loss: {:.4f}'.format(epoch+1, epochs, running_loss/(len(train_data_set)*batch_size)))\n",
        "\n",
        "    model.eval()\n",
        "    val_loss = 0.0\n",
        "    val_accuracy_char=0.0\n",
        "    num_correct_val_char=0\n",
        "    val_accuracy_word=0\n",
        "    num_correct_val_word=0\n",
        "    with torch.no_grad():\n",
        "      for i, (inputs, target) in enumerate(test_data_set):\n",
        "        inputs=inputs.to(device)\n",
        "\n",
        "        target=target.to(device)\n",
        "\n",
        "        output = model.prediction(inputs,target)#20x65x57\n",
        "\n",
        "        output1=output[:].reshape(-1,output.shape[2])\n",
        "\n",
        "        target1=target[:].reshape(-1)\n",
        "        loss = criterion(output1, target1)\n",
        "        val_loss += loss.item()\n",
        "        predictionss=torch.argmax(output,dim=2)#20x64\n",
        "        predictionss=torch.permute(predictionss,(1,0))#64x20\n",
        "        num_correct_val_char += (predictionss == target).sum().item()\n",
        "\n",
        "        z=(predictionss == target).sum(-1)\n",
        "        num_correct_val_word+=(z==20).sum().item()\n",
        "\n",
        "      val_loss=(train_loss/(len(valid_data_set)*batch_size))*100\n",
        "      val_accuracy_char=(num_correct_val_char/(len(test_data_set)*batch_size*20))*100\n",
        "      val_accuracy_word=(num_correct_val_word/(len(test_data_set)*batch_size))*100\n",
        "      val_Acc.append(val_accuracy_char)\n",
        "      val_Loss.append(val_loss)\n",
        "\n",
        "      if val_accuracy_char>best_accuracy:\n",
        "        torch.save(model.state_dict(),'best_checkpoint.model')\n",
        "        model_wts=copy.deepcopy(model.state_dict())\n",
        "        best_accuracy=val_accuracy_char\n",
        "\n",
        "  print(\"max__train_accuracy:\",np.max(train_Acc))\n",
        "  print(\"max__validation_accuracy:\",np.max(val_Acc))\n",
        "  print(\"min_train_loss:\",np.min(train_Loss))\n",
        "  print(\"min_validation_loss:\",np.min(val_Loss))\n",
        "  plt.plot(train_Loss, 'r', label=\"Training loss\")\n",
        "  plt.plot(val_Loss, 'lime', label=\"Validation loss\")\n",
        "  plt.title(\"Training and Validation Loss vs Number of Epochs\", size=15)\n",
        "  plt.xlabel(\"Number of epochs\", size=15)\n",
        "  plt.ylabel(\"Loss\", size=15)\n",
        "  plt.legend()\n",
        "  plt.show()\n",
        "\n",
        "\n",
        "  plt.plot(train_Acc, 'r', label=\"Training Accuracy\")\n",
        "  plt.plot(val_Acc ,'lime', label=\"Validation Accuracy\")\n",
        "  plt.title(\"Training and Validation Accuracy vs Number of Epochs\", size=15)\n",
        "  plt.xlabel(\"Number of epochs\", size=15)\n",
        "  plt.ylabel(\"Accuracy\", size=15)\n",
        "  plt.legend()\n",
        "  plt.show() \n",
        "  model.load_state_dict(model_wts)\n",
        "  return model  "
      ],
      "metadata": {
        "id": "ugKLjHqErkYW"
      },
      "execution_count": null,
      "outputs": []
    },
    {
      "cell_type": "code",
      "source": [],
      "metadata": {
        "id": "a6B-ku3urkVZ"
      },
      "execution_count": null,
      "outputs": []
    },
    {
      "cell_type": "code",
      "source": [
        "best_model=train_best_model()"
      ],
      "metadata": {
        "id": "URKTZi-2rkRv"
      },
      "execution_count": null,
      "outputs": []
    },
    {
      "cell_type": "code",
      "source": [],
      "metadata": {
        "id": "vpX1XpKyrkMl"
      },
      "execution_count": null,
      "outputs": []
    },
    {
      "cell_type": "code",
      "source": [],
      "metadata": {
        "id": "vkXIvDG1rkHr"
      },
      "execution_count": null,
      "outputs": []
    }
  ]
}